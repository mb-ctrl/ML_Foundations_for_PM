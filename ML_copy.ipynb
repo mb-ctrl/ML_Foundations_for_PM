{
 "cells": [
  {
   "cell_type": "markdown",
   "id": "9509b410",
   "metadata": {},
   "source": [
    "# Preparation"
   ]
  },
  {
   "cell_type": "code",
   "execution_count": 147,
   "id": "fed4023a",
   "metadata": {},
   "outputs": [],
   "source": [
    "import pandas as pd\n",
    "import seaborn as sns\n",
    "import numpy as np\n",
    "from fast_ml.model_development import train_valid_test_split\n",
    "from sklearn.linear_model import LinearRegression\n",
    "from sklearn.preprocessing import PolynomialFeatures\n",
    "from sklearn.metrics import r2_score\n",
    "from sklearn import metrics"
   ]
  },
  {
   "cell_type": "markdown",
   "id": "f5434f3a",
   "metadata": {},
   "source": [
    "### Import Data"
   ]
  },
  {
   "cell_type": "code",
   "execution_count": 148,
   "id": "da597737",
   "metadata": {},
   "outputs": [
    {
     "data": {
      "text/html": [
       "<div>\n",
       "<style scoped>\n",
       "    .dataframe tbody tr th:only-of-type {\n",
       "        vertical-align: middle;\n",
       "    }\n",
       "\n",
       "    .dataframe tbody tr th {\n",
       "        vertical-align: top;\n",
       "    }\n",
       "\n",
       "    .dataframe thead th {\n",
       "        text-align: right;\n",
       "    }\n",
       "</style>\n",
       "<table border=\"1\" class=\"dataframe\">\n",
       "  <thead>\n",
       "    <tr style=\"text-align: right;\">\n",
       "      <th></th>\n",
       "      <th>Temperatur</th>\n",
       "      <th>Exhaust Vacuum</th>\n",
       "      <th>Ambient Pressure</th>\n",
       "      <th>Relative Humidity</th>\n",
       "      <th>PE</th>\n",
       "    </tr>\n",
       "  </thead>\n",
       "  <tbody>\n",
       "    <tr>\n",
       "      <th>0</th>\n",
       "      <td>14.96</td>\n",
       "      <td>41.76</td>\n",
       "      <td>1024.07</td>\n",
       "      <td>73.17</td>\n",
       "      <td>463.26</td>\n",
       "    </tr>\n",
       "    <tr>\n",
       "      <th>1</th>\n",
       "      <td>25.18</td>\n",
       "      <td>62.96</td>\n",
       "      <td>1020.04</td>\n",
       "      <td>59.08</td>\n",
       "      <td>444.37</td>\n",
       "    </tr>\n",
       "    <tr>\n",
       "      <th>2</th>\n",
       "      <td>5.11</td>\n",
       "      <td>39.40</td>\n",
       "      <td>1012.16</td>\n",
       "      <td>92.14</td>\n",
       "      <td>488.56</td>\n",
       "    </tr>\n",
       "  </tbody>\n",
       "</table>\n",
       "</div>"
      ],
      "text/plain": [
       "   Temperatur  Exhaust Vacuum  Ambient Pressure  Relative Humidity      PE\n",
       "0       14.96           41.76           1024.07              73.17  463.26\n",
       "1       25.18           62.96           1020.04              59.08  444.37\n",
       "2        5.11           39.40           1012.16              92.14  488.56"
      ]
     },
     "execution_count": 148,
     "metadata": {},
     "output_type": "execute_result"
    }
   ],
   "source": [
    "df = pd.read_csv('C:/Users/xxxx/CCPP_data.csv')\n",
    "df.rename(columns={\"AT\":\"Temperatur\"}, inplace=True)\n",
    "df.rename(columns={\"V\":\"Exhaust Vacuum\"}, inplace=True)\n",
    "df.rename(columns={\"AP\":\"Ambient Pressure\"}, inplace=True)\n",
    "df.rename(columns={\"RH\":\"Relative Humidity\"}, inplace=True)\n",
    "df.rename(columns={\"PE\":\"PE\"}, inplace=True)\n",
    "df.head(3)"
   ]
  },
  {
   "cell_type": "code",
   "execution_count": 149,
   "id": "f16f97a7",
   "metadata": {},
   "outputs": [
    {
     "data": {
      "text/html": [
       "<div>\n",
       "<style scoped>\n",
       "    .dataframe tbody tr th:only-of-type {\n",
       "        vertical-align: middle;\n",
       "    }\n",
       "\n",
       "    .dataframe tbody tr th {\n",
       "        vertical-align: top;\n",
       "    }\n",
       "\n",
       "    .dataframe thead th {\n",
       "        text-align: right;\n",
       "    }\n",
       "</style>\n",
       "<table border=\"1\" class=\"dataframe\">\n",
       "  <thead>\n",
       "    <tr style=\"text-align: right;\">\n",
       "      <th></th>\n",
       "      <th>Temperatur</th>\n",
       "      <th>Exhaust Vacuum</th>\n",
       "      <th>PE</th>\n",
       "    </tr>\n",
       "  </thead>\n",
       "  <tbody>\n",
       "    <tr>\n",
       "      <th>0</th>\n",
       "      <td>14.96</td>\n",
       "      <td>41.76</td>\n",
       "      <td>463.26</td>\n",
       "    </tr>\n",
       "    <tr>\n",
       "      <th>1</th>\n",
       "      <td>25.18</td>\n",
       "      <td>62.96</td>\n",
       "      <td>444.37</td>\n",
       "    </tr>\n",
       "    <tr>\n",
       "      <th>2</th>\n",
       "      <td>5.11</td>\n",
       "      <td>39.40</td>\n",
       "      <td>488.56</td>\n",
       "    </tr>\n",
       "  </tbody>\n",
       "</table>\n",
       "</div>"
      ],
      "text/plain": [
       "   Temperatur  Exhaust Vacuum      PE\n",
       "0       14.96           41.76  463.26\n",
       "1       25.18           62.96  444.37\n",
       "2        5.11           39.40  488.56"
      ]
     },
     "execution_count": 149,
     "metadata": {},
     "output_type": "execute_result"
    }
   ],
   "source": [
    "data_ml = df [[\"Temperatur\", \"Exhaust Vacuum\",\"PE\"]]\n",
    "data_ml.head(3)"
   ]
  },
  {
   "cell_type": "markdown",
   "id": "ba1799b3",
   "metadata": {},
   "source": [
    "### Splitting Dataset"
   ]
  },
  {
   "cell_type": "code",
   "execution_count": 150,
   "id": "6dc130dd",
   "metadata": {},
   "outputs": [
    {
     "data": {
      "text/html": [
       "<div>\n",
       "<style scoped>\n",
       "    .dataframe tbody tr th:only-of-type {\n",
       "        vertical-align: middle;\n",
       "    }\n",
       "\n",
       "    .dataframe tbody tr th {\n",
       "        vertical-align: top;\n",
       "    }\n",
       "\n",
       "    .dataframe thead th {\n",
       "        text-align: right;\n",
       "    }\n",
       "</style>\n",
       "<table border=\"1\" class=\"dataframe\">\n",
       "  <thead>\n",
       "    <tr style=\"text-align: right;\">\n",
       "      <th></th>\n",
       "      <th>Temperatur</th>\n",
       "      <th>Exhaust Vacuum</th>\n",
       "    </tr>\n",
       "  </thead>\n",
       "  <tbody>\n",
       "    <tr>\n",
       "      <th>0</th>\n",
       "      <td>30.20</td>\n",
       "      <td>56.90</td>\n",
       "    </tr>\n",
       "    <tr>\n",
       "      <th>1</th>\n",
       "      <td>13.08</td>\n",
       "      <td>39.82</td>\n",
       "    </tr>\n",
       "    <tr>\n",
       "      <th>2</th>\n",
       "      <td>23.46</td>\n",
       "      <td>59.27</td>\n",
       "    </tr>\n",
       "  </tbody>\n",
       "</table>\n",
       "</div>"
      ],
      "text/plain": [
       "   Temperatur  Exhaust Vacuum\n",
       "0       30.20           56.90\n",
       "1       13.08           39.82\n",
       "2       23.46           59.27"
      ]
     },
     "execution_count": 150,
     "metadata": {},
     "output_type": "execute_result"
    }
   ],
   "source": [
    "X_train, y_train, X_valid, y_valid, X_test, y_test = train_valid_test_split(data_ml, \n",
    "                                                                            target = 'PE', \n",
    "                                                                            train_size=0.6, \n",
    "                                                                            valid_size=0.2, \n",
    "                                                                            test_size=0.2)\n",
    "\n",
    "for data in [X_train, y_train, X_valid, y_valid, X_test, y_test]:\n",
    "    data.reset_index(drop=True, inplace=True)\n",
    "    \n",
    "X_train.head(3)"
   ]
  },
  {
   "cell_type": "markdown",
   "id": "0d0a73bd",
   "metadata": {},
   "source": [
    "## Linear Regression Model"
   ]
  },
  {
   "cell_type": "markdown",
   "id": "400d5ce6",
   "metadata": {},
   "source": [
    "### Data Preparation"
   ]
  },
  {
   "cell_type": "code",
   "execution_count": 151,
   "id": "15c2eccd",
   "metadata": {},
   "outputs": [
    {
     "data": {
      "text/plain": [
       "0    30.20\n",
       "1    13.08\n",
       "2    23.46\n",
       "Name: Temperatur, dtype: float64"
      ]
     },
     "execution_count": 151,
     "metadata": {},
     "output_type": "execute_result"
    }
   ],
   "source": [
    "X_train_01 = X_train['Temperatur']\n",
    "X_train_01.head(3)"
   ]
  },
  {
   "cell_type": "code",
   "execution_count": 152,
   "id": "7a366f2a",
   "metadata": {},
   "outputs": [],
   "source": [
    "y_train_01 = y_train.values.reshape(-1, 1)"
   ]
  },
  {
   "cell_type": "code",
   "execution_count": 153,
   "id": "942f769b",
   "metadata": {},
   "outputs": [],
   "source": [
    "X_train_01 = X_train_01.values.reshape(-1, 1)"
   ]
  },
  {
   "cell_type": "markdown",
   "id": "f6d22b5b",
   "metadata": {},
   "source": [
    "### Regression Model Training"
   ]
  },
  {
   "cell_type": "code",
   "execution_count": 154,
   "id": "5920f3e0",
   "metadata": {},
   "outputs": [],
   "source": [
    "model = LinearRegression()"
   ]
  },
  {
   "cell_type": "code",
   "execution_count": 155,
   "id": "58b708c7",
   "metadata": {},
   "outputs": [
    {
     "name": "stdout",
     "output_type": "stream",
     "text": [
      "[[-2.16456498]]\n"
     ]
    }
   ],
   "source": [
    "model.fit(X_train_01, y_train_01)\n",
    "print(model.coef_)"
   ]
  },
  {
   "cell_type": "markdown",
   "id": "11876b41",
   "metadata": {},
   "source": [
    "### Regression Model Validation"
   ]
  },
  {
   "cell_type": "code",
   "execution_count": 156,
   "id": "dc9cbc20",
   "metadata": {},
   "outputs": [
    {
     "data": {
      "text/plain": [
       "0    21.02\n",
       "1    28.64\n",
       "2     8.84\n",
       "Name: Temperatur, dtype: float64"
      ]
     },
     "execution_count": 156,
     "metadata": {},
     "output_type": "execute_result"
    }
   ],
   "source": [
    "X_valid_01 = X_valid['Temperatur']\n",
    "X_valid_01.head(3)"
   ]
  },
  {
   "cell_type": "code",
   "execution_count": 157,
   "id": "1416209a",
   "metadata": {},
   "outputs": [],
   "source": [
    "X_valid_01 = X_valid_01.values.reshape(-1, 1)"
   ]
  },
  {
   "cell_type": "code",
   "execution_count": 158,
   "id": "206339c4",
   "metadata": {},
   "outputs": [],
   "source": [
    "predictions = model.predict(X_valid_01)"
   ]
  },
  {
   "cell_type": "markdown",
   "id": "916b67db",
   "metadata": {},
   "source": [
    "## Linear Regression Model Metrics"
   ]
  },
  {
   "cell_type": "code",
   "execution_count": 159,
   "id": "0da6ccb9",
   "metadata": {},
   "outputs": [],
   "source": [
    "y_valid_01 = y_valid"
   ]
  },
  {
   "cell_type": "markdown",
   "id": "7efeb677",
   "metadata": {},
   "source": [
    "### MAE"
   ]
  },
  {
   "cell_type": "code",
   "execution_count": 160,
   "id": "5bf98e5f",
   "metadata": {},
   "outputs": [
    {
     "data": {
      "text/plain": [
       "4.373439308695175"
      ]
     },
     "execution_count": 160,
     "metadata": {},
     "output_type": "execute_result"
    }
   ],
   "source": [
    "metrics.mean_absolute_error(y_valid_01, predictions)"
   ]
  },
  {
   "cell_type": "markdown",
   "id": "6e7e10d4",
   "metadata": {},
   "source": [
    "### MSE\n",
    "\n"
   ]
  },
  {
   "cell_type": "code",
   "execution_count": 178,
   "id": "8419eed7",
   "metadata": {},
   "outputs": [
    {
     "name": "stdout",
     "output_type": "stream",
     "text": [
      "30.446436549331995\n"
     ]
    }
   ],
   "source": [
    "mse_linear = metrics.mean_squared_error(y_valid_01, predictions)\n",
    "print(mse_linear)"
   ]
  },
  {
   "cell_type": "markdown",
   "id": "50dae853",
   "metadata": {},
   "source": [
    "### R2"
   ]
  },
  {
   "cell_type": "code",
   "execution_count": 174,
   "id": "6c63cf9e",
   "metadata": {},
   "outputs": [
    {
     "name": "stdout",
     "output_type": "stream",
     "text": [
      "R^2 Score: 0.8958763953289539\n"
     ]
    }
   ],
   "source": [
    "r2_linear = model.score(X_valid_01, y_valid_01)\n",
    "print(f\"R^2 Score: {r2_linear}\")"
   ]
  },
  {
   "cell_type": "markdown",
   "id": "b56c54c0",
   "metadata": {},
   "source": [
    "## Polynominal Regression"
   ]
  },
  {
   "cell_type": "markdown",
   "id": "1327e8b1",
   "metadata": {},
   "source": [
    "### Data Preparation"
   ]
  },
  {
   "cell_type": "code",
   "execution_count": 163,
   "id": "78cbca98",
   "metadata": {},
   "outputs": [
    {
     "data": {
      "text/plain": [
       "0    56.90\n",
       "1    39.82\n",
       "2    59.27\n",
       "Name: Exhaust Vacuum, dtype: float64"
      ]
     },
     "execution_count": 163,
     "metadata": {},
     "output_type": "execute_result"
    }
   ],
   "source": [
    "X_train_02 = X_train['Exhaust Vacuum']\n",
    "X_train_02.head(3)"
   ]
  },
  {
   "cell_type": "markdown",
   "id": "953301ec",
   "metadata": {},
   "source": [
    "### Polynominal Regression Training Model"
   ]
  },
  {
   "cell_type": "code",
   "execution_count": 164,
   "id": "da95d6a0",
   "metadata": {},
   "outputs": [],
   "source": [
    "model_poly = np.poly1d(np.polyfit(X_train_02, y_train, 2))"
   ]
  },
  {
   "cell_type": "markdown",
   "id": "1ae01656",
   "metadata": {},
   "source": [
    "### Polynominal Regression Validation "
   ]
  },
  {
   "cell_type": "code",
   "execution_count": 165,
   "id": "9e68a545",
   "metadata": {},
   "outputs": [
    {
     "data": {
      "text/plain": [
       "0    61.50\n",
       "1    73.40\n",
       "2    42.49\n",
       "Name: Exhaust Vacuum, dtype: float64"
      ]
     },
     "execution_count": 165,
     "metadata": {},
     "output_type": "execute_result"
    }
   ],
   "source": [
    "X_valid_02 = X_valid['Exhaust Vacuum']\n",
    "X_valid_02.head(3)"
   ]
  },
  {
   "cell_type": "code",
   "execution_count": 166,
   "id": "67fb59fb",
   "metadata": {},
   "outputs": [
    {
     "data": {
      "text/plain": [
       "array([443.33025544, 435.14580056, 468.29143999, ..., 435.02221499,\n",
       "       440.35983091, 435.84160143])"
      ]
     },
     "execution_count": 166,
     "metadata": {},
     "output_type": "execute_result"
    }
   ],
   "source": [
    "predictions_02 = model_poly(X_valid_02)\n",
    "predictions_02"
   ]
  },
  {
   "cell_type": "markdown",
   "id": "95aa316f",
   "metadata": {},
   "source": [
    "## Polynominal Regression Model Metrics"
   ]
  },
  {
   "cell_type": "code",
   "execution_count": 167,
   "id": "fcc0e570",
   "metadata": {},
   "outputs": [],
   "source": [
    "y_valid_02 = y_valid"
   ]
  },
  {
   "cell_type": "markdown",
   "id": "78184f01",
   "metadata": {},
   "source": [
    "### MSE"
   ]
  },
  {
   "cell_type": "code",
   "execution_count": 175,
   "id": "2560687f",
   "metadata": {},
   "outputs": [
    {
     "name": "stdout",
     "output_type": "stream",
     "text": [
      "Mean Squared Error: 64.49733336339946\n"
     ]
    }
   ],
   "source": [
    "mse_polynominal = ((predictions_02 - y_valid_02) ** 2).mean()\n",
    "print(f\"Mean Squared Error: {mse_polynominal}\")"
   ]
  },
  {
   "cell_type": "markdown",
   "id": "4186f659",
   "metadata": {},
   "source": [
    "### R2"
   ]
  },
  {
   "cell_type": "code",
   "execution_count": 170,
   "id": "c7414aaa",
   "metadata": {},
   "outputs": [],
   "source": [
    "from sklearn.metrics import r2_score"
   ]
  },
  {
   "cell_type": "code",
   "execution_count": 173,
   "id": "e1af7635",
   "metadata": {},
   "outputs": [
    {
     "name": "stdout",
     "output_type": "stream",
     "text": [
      "0.7794259163765872\n"
     ]
    }
   ],
   "source": [
    "r2_polynominal = (r2_score(y_valid_02, predictions_02))\n",
    "print(r2_polynominal)"
   ]
  },
  {
   "cell_type": "markdown",
   "id": "3f0622cb",
   "metadata": {},
   "source": [
    "# Comparison"
   ]
  },
  {
   "cell_type": "code",
   "execution_count": 179,
   "id": "f9e0c9f8",
   "metadata": {},
   "outputs": [],
   "source": [
    "comparetable = {\n",
    "    'Model': ['Linear', 'Polynomial'],\n",
    "    'MSE': [mse_linear, mse_polynominal],\n",
    "    'R2': [r2_linear, r2_polynominal]\n",
    "}\n",
    "\n",
    "ct = pd.DataFrame(comparetable)"
   ]
  },
  {
   "cell_type": "code",
   "execution_count": 180,
   "id": "d78ee652",
   "metadata": {},
   "outputs": [
    {
     "name": "stdout",
     "output_type": "stream",
     "text": [
      "        Model        MSE        R2\n",
      "0      Linear  30.446437  0.895876\n",
      "1  Polynomial  64.497333  0.779426\n"
     ]
    }
   ],
   "source": [
    "print(ct)"
   ]
  },
  {
   "cell_type": "markdown",
   "id": "00302d61",
   "metadata": {},
   "source": [
    "# Testing"
   ]
  },
  {
   "cell_type": "code",
   "execution_count": 184,
   "id": "6fa71313",
   "metadata": {},
   "outputs": [
    {
     "data": {
      "text/plain": [
       "0    28.56\n",
       "1    14.59\n",
       "2    19.92\n",
       "Name: Temperatur, dtype: float64"
      ]
     },
     "execution_count": 184,
     "metadata": {},
     "output_type": "execute_result"
    }
   ],
   "source": [
    "X_test_01 = X_test['Temperatur']\n",
    "X_test_01.head(3)"
   ]
  },
  {
   "cell_type": "code",
   "execution_count": 185,
   "id": "5c8a38a3",
   "metadata": {},
   "outputs": [],
   "source": [
    "X_test_01 = X_test_01.values.reshape(-1, 1)"
   ]
  },
  {
   "cell_type": "code",
   "execution_count": 186,
   "id": "44e02b1d",
   "metadata": {},
   "outputs": [],
   "source": [
    "predictions_test = model.predict(X_test_01)"
   ]
  },
  {
   "cell_type": "markdown",
   "id": "73316fcb",
   "metadata": {},
   "source": [
    "### Testing Metrics"
   ]
  },
  {
   "cell_type": "code",
   "execution_count": 187,
   "id": "a83598ee",
   "metadata": {},
   "outputs": [],
   "source": [
    "mae_test = metrics.mean_absolute_error(y_test, predictions_test)"
   ]
  },
  {
   "cell_type": "code",
   "execution_count": 193,
   "id": "0a43f9d4",
   "metadata": {},
   "outputs": [
    {
     "data": {
      "text/plain": [
       "28.833054324843825"
      ]
     },
     "execution_count": 193,
     "metadata": {},
     "output_type": "execute_result"
    }
   ],
   "source": [
    "mse_test"
   ]
  },
  {
   "cell_type": "code",
   "execution_count": 197,
   "id": "e4df31ad",
   "metadata": {},
   "outputs": [],
   "source": [
    "mse_test = metrics.mean_squared_error(y_test, predictions_test)"
   ]
  },
  {
   "cell_type": "code",
   "execution_count": 196,
   "id": "4a15fe29",
   "metadata": {},
   "outputs": [],
   "source": [
    "rmse_test = np.sqrt(metrics.mean_squared_error(y_test, predictions_test))"
   ]
  },
  {
   "cell_type": "code",
   "execution_count": 194,
   "id": "03de4024",
   "metadata": {},
   "outputs": [
    {
     "name": "stdout",
     "output_type": "stream",
     "text": [
      "R^2 Score: 0.9013428652428742\n"
     ]
    }
   ],
   "source": [
    "r2_score_test = model.score(X_test_01, y_test)\n",
    "print(f\"R^2 Score: {r2_score}\")"
   ]
  },
  {
   "cell_type": "code",
   "execution_count": null,
   "id": "956f2b7c",
   "metadata": {},
   "outputs": [],
   "source": [
    "testing"
   ]
  },
  {
   "cell_type": "code",
   "execution_count": 198,
   "id": "f5e85f9f",
   "metadata": {},
   "outputs": [],
   "source": [
    "testing_result = {\n",
    "    'Model': ['Linear'],\n",
    "    'MAE': [mae_test],\n",
    "    'MSE': [mse_test],\n",
    "    'RMSE': [rmse_test],\n",
    "    'R2': [r2_score_test]\n",
    "}\n",
    "\n",
    "tr = pd.DataFrame(testing_result)"
   ]
  },
  {
   "cell_type": "code",
   "execution_count": 199,
   "id": "32d722a5",
   "metadata": {},
   "outputs": [
    {
     "name": "stdout",
     "output_type": "stream",
     "text": [
      "    Model       MAE        MSE      RMSE        R2\n",
      "0  Linear  4.256454  28.833054  5.369642  0.901343\n"
     ]
    }
   ],
   "source": [
    "print(tr)"
   ]
  }
 ],
 "metadata": {
  "kernelspec": {
   "display_name": "Python 3 (ipykernel)",
   "language": "python",
   "name": "python3"
  },
  "language_info": {
   "codemirror_mode": {
    "name": "ipython",
    "version": 3
   },
   "file_extension": ".py",
   "mimetype": "text/x-python",
   "name": "python",
   "nbconvert_exporter": "python",
   "pygments_lexer": "ipython3",
   "version": "3.9.7"
  }
 },
 "nbformat": 4,
 "nbformat_minor": 5
}
